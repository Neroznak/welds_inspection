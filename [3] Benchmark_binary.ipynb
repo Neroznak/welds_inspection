{
 "cells": [
  {
   "cell_type": "markdown",
   "id": "3c4ef4e6",
   "metadata": {},
   "source": [
    "# Evaluation of binary classification"
   ]
  },
  {
   "cell_type": "markdown",
   "id": "b767a556",
   "metadata": {},
   "source": [
    "The model is trained and ready to be evaluated. For this purpose, I have 6588 images that did not participate in training. I decided to unbalance the data and get the metrics readings considering the real, production distribution of the data. During training, I will try to tune the estimation to minimize the first-order error to a minimum. I will start by importing the data and the necessary libraries"
   ]
  },
  {
   "cell_type": "markdown",
   "id": "e78ef1e5",
   "metadata": {},
   "source": [
    "## STEP 1. Import data and libraries"
   ]
  },
  {
   "cell_type": "code",
   "execution_count": 1,
   "id": "41b1e3d5",
   "metadata": {},
   "outputs": [],
   "source": [
    "import numpy as np \n",
    "import pandas as pd \n",
    "import zipfile\n",
    "from matplotlib import pyplot as plt\n",
    "import shutil \n",
    "from tqdm import tqdm\n",
    "import torch\n",
    "import torchvision\n",
    "import time\n",
    "import copy\n",
    "from torchvision import transforms, models\n",
    "import os\n",
    "from datetime import datetime"
   ]
  },
  {
   "cell_type": "code",
   "execution_count": 2,
   "id": "77608707",
   "metadata": {},
   "outputs": [
    {
     "name": "stdout",
     "output_type": "stream",
     "text": [
      "['170904-150144-Al 2mm-part2', '170904-152301-Al 2mm-part2', '170904-154202-Al 2mm-part1', '170904-155610-Al 2mm', '170905-112213-Al 2mm', '170906-104925-Al 2mm', '170906-113317-Al 2mm-part1', '170906-143512-Al 2mm-part1', '170906-143512-Al 2mm-part2', '170906-151724-Al 2mm-part1', '170906-153326-Al 2mm-part3', '170906-155007-Al 2mm-part1', '170906-155007-Al 2mm-part2', '170913-154448-Al 2mm', 'test.json']\n"
     ]
    }
   ],
   "source": [
    "data_root = r\"data\\data_root\\al5083\\test\"\n",
    "print(os.listdir(data_root))"
   ]
  },
  {
   "cell_type": "markdown",
   "id": "13dafced",
   "metadata": {},
   "source": [
    "## STEP 2. Data markup"
   ]
  },
  {
   "cell_type": "code",
   "execution_count": 3,
   "id": "a3e40fd5",
   "metadata": {},
   "outputs": [],
   "source": [
    "js = os.path.join(data_root,r\"test.json\")\n",
    "labels = pd.read_json(js, typ='series')\n",
    "labels = labels.to_frame()\n",
    "labels = labels.reset_index()\n",
    "labels = labels.rename(columns={'index':'path',0:'class'})\n",
    "labels['class'] = labels['class'].astype(object)\n",
    "def create_binary_label(row):\n",
    "    if row['class'] == 0:\n",
    "        return 'good_weld'\n",
    "    else:\n",
    "        return 'bad_weld'\n",
    "labels['binary'] = labels.apply(create_binary_label, axis=1)\n",
    "labels = labels.sort_values(by='class')\n",
    "labels = labels.reset_index()\n",
    "labels = labels.drop('index',axis=1)\n",
    "classes = labels['binary'].unique()\n",
    "test_labels =labels"
   ]
  },
  {
   "cell_type": "code",
   "execution_count": 4,
   "id": "93c61cd3",
   "metadata": {},
   "outputs": [
    {
     "data": {
      "text/html": [
       "<div>\n",
       "<style scoped>\n",
       "    .dataframe tbody tr th:only-of-type {\n",
       "        vertical-align: middle;\n",
       "    }\n",
       "\n",
       "    .dataframe tbody tr th {\n",
       "        vertical-align: top;\n",
       "    }\n",
       "\n",
       "    .dataframe thead th {\n",
       "        text-align: right;\n",
       "    }\n",
       "</style>\n",
       "<table border=\"1\" class=\"dataframe\">\n",
       "  <thead>\n",
       "    <tr style=\"text-align: right;\">\n",
       "      <th></th>\n",
       "      <th>path</th>\n",
       "      <th>class</th>\n",
       "      <th>binary</th>\n",
       "    </tr>\n",
       "  </thead>\n",
       "  <tbody>\n",
       "    <tr>\n",
       "      <th>0</th>\n",
       "      <td>170913-154448-Al 2mm/frame_00162.png</td>\n",
       "      <td>0</td>\n",
       "      <td>good_weld</td>\n",
       "    </tr>\n",
       "    <tr>\n",
       "      <th>1</th>\n",
       "      <td>170906-113317-Al 2mm-part1/frame_00336.png</td>\n",
       "      <td>0</td>\n",
       "      <td>good_weld</td>\n",
       "    </tr>\n",
       "    <tr>\n",
       "      <th>2</th>\n",
       "      <td>170906-113317-Al 2mm-part1/frame_00544.png</td>\n",
       "      <td>0</td>\n",
       "      <td>good_weld</td>\n",
       "    </tr>\n",
       "    <tr>\n",
       "      <th>3</th>\n",
       "      <td>170906-113317-Al 2mm-part1/frame_00391.png</td>\n",
       "      <td>0</td>\n",
       "      <td>good_weld</td>\n",
       "    </tr>\n",
       "    <tr>\n",
       "      <th>4</th>\n",
       "      <td>170906-113317-Al 2mm-part1/frame_00454.png</td>\n",
       "      <td>0</td>\n",
       "      <td>good_weld</td>\n",
       "    </tr>\n",
       "    <tr>\n",
       "      <th>...</th>\n",
       "      <td>...</td>\n",
       "      <td>...</td>\n",
       "      <td>...</td>\n",
       "    </tr>\n",
       "    <tr>\n",
       "      <th>6583</th>\n",
       "      <td>170904-152301-Al 2mm-part2/frame_00626.png</td>\n",
       "      <td>5</td>\n",
       "      <td>bad_weld</td>\n",
       "    </tr>\n",
       "    <tr>\n",
       "      <th>6584</th>\n",
       "      <td>170904-152301-Al 2mm-part2/frame_00425.png</td>\n",
       "      <td>5</td>\n",
       "      <td>bad_weld</td>\n",
       "    </tr>\n",
       "    <tr>\n",
       "      <th>6585</th>\n",
       "      <td>170904-152301-Al 2mm-part2/frame_00482.png</td>\n",
       "      <td>5</td>\n",
       "      <td>bad_weld</td>\n",
       "    </tr>\n",
       "    <tr>\n",
       "      <th>6586</th>\n",
       "      <td>170904-152301-Al 2mm-part2/frame_00606.png</td>\n",
       "      <td>5</td>\n",
       "      <td>bad_weld</td>\n",
       "    </tr>\n",
       "    <tr>\n",
       "      <th>6587</th>\n",
       "      <td>170904-152301-Al 2mm-part2/frame_00458.png</td>\n",
       "      <td>5</td>\n",
       "      <td>bad_weld</td>\n",
       "    </tr>\n",
       "  </tbody>\n",
       "</table>\n",
       "<p>6588 rows × 3 columns</p>\n",
       "</div>"
      ],
      "text/plain": [
       "                                            path class     binary\n",
       "0           170913-154448-Al 2mm/frame_00162.png     0  good_weld\n",
       "1     170906-113317-Al 2mm-part1/frame_00336.png     0  good_weld\n",
       "2     170906-113317-Al 2mm-part1/frame_00544.png     0  good_weld\n",
       "3     170906-113317-Al 2mm-part1/frame_00391.png     0  good_weld\n",
       "4     170906-113317-Al 2mm-part1/frame_00454.png     0  good_weld\n",
       "...                                          ...   ...        ...\n",
       "6583  170904-152301-Al 2mm-part2/frame_00626.png     5   bad_weld\n",
       "6584  170904-152301-Al 2mm-part2/frame_00425.png     5   bad_weld\n",
       "6585  170904-152301-Al 2mm-part2/frame_00482.png     5   bad_weld\n",
       "6586  170904-152301-Al 2mm-part2/frame_00606.png     5   bad_weld\n",
       "6587  170904-152301-Al 2mm-part2/frame_00458.png     5   bad_weld\n",
       "\n",
       "[6588 rows x 3 columns]"
      ]
     },
     "execution_count": 4,
     "metadata": {},
     "output_type": "execute_result"
    }
   ],
   "source": [
    "test_labels"
   ]
  },
  {
   "cell_type": "markdown",
   "id": "591baa59",
   "metadata": {},
   "source": [
    "## STEP 3. Load images"
   ]
  },
  {
   "cell_type": "code",
   "execution_count": 5,
   "id": "c38c3b0d",
   "metadata": {},
   "outputs": [],
   "source": [
    "for class_name in classes: \n",
    "    os.makedirs(os.path.join('data/binary_test', class_name), exist_ok=True)"
   ]
  },
  {
   "cell_type": "code",
   "execution_count": 8,
   "id": "cbc7566c",
   "metadata": {},
   "outputs": [
    {
     "name": "stderr",
     "output_type": "stream",
     "text": [
      "100%|██████████| 2189/2189 [00:15<00:00, 145.89it/s]\n",
      "100%|██████████| 4399/4399 [00:31<00:00, 140.97it/s]"
     ]
    },
    {
     "name": "stdout",
     "output_type": "stream",
     "text": [
      "Изображения для теста прогружены!\n"
     ]
    },
    {
     "name": "stderr",
     "output_type": "stream",
     "text": [
      "\n"
     ]
    }
   ],
   "source": [
    "test_dir = 'data/binary_test'\n",
    "for class_name in classes: \n",
    "    for i, file_name in enumerate(tqdm(labels['path'].loc[labels['binary']==class_name].tolist())):\n",
    "        pic_name = str(class_name) + '_' + str(i) + '.png'\n",
    "        shutil.copy(os.path.join(data_root, file_name), os.path.join(os.path.join(test_dir, class_name,pic_name)))\n",
    "print('Изображения для теста прогружены!') "
   ]
  },
  {
   "cell_type": "code",
   "execution_count": 13,
   "id": "231d3df7",
   "metadata": {},
   "outputs": [
    {
     "data": {
      "text/html": [
       "<div>\n",
       "<style scoped>\n",
       "    .dataframe tbody tr th:only-of-type {\n",
       "        vertical-align: middle;\n",
       "    }\n",
       "\n",
       "    .dataframe tbody tr th {\n",
       "        vertical-align: top;\n",
       "    }\n",
       "\n",
       "    .dataframe thead th {\n",
       "        text-align: right;\n",
       "    }\n",
       "</style>\n",
       "<table border=\"1\" class=\"dataframe\">\n",
       "  <thead>\n",
       "    <tr style=\"text-align: right;\">\n",
       "      <th></th>\n",
       "      <th>path</th>\n",
       "      <th>test_class</th>\n",
       "    </tr>\n",
       "  </thead>\n",
       "  <tbody>\n",
       "    <tr>\n",
       "      <th>0</th>\n",
       "      <td>bad_weld_0.png</td>\n",
       "      <td>bad_weld</td>\n",
       "    </tr>\n",
       "    <tr>\n",
       "      <th>1</th>\n",
       "      <td>bad_weld_1.png</td>\n",
       "      <td>bad_weld</td>\n",
       "    </tr>\n",
       "    <tr>\n",
       "      <th>2</th>\n",
       "      <td>bad_weld_10.png</td>\n",
       "      <td>bad_weld</td>\n",
       "    </tr>\n",
       "    <tr>\n",
       "      <th>3</th>\n",
       "      <td>bad_weld_100.png</td>\n",
       "      <td>bad_weld</td>\n",
       "    </tr>\n",
       "    <tr>\n",
       "      <th>4</th>\n",
       "      <td>bad_weld_1000.png</td>\n",
       "      <td>bad_weld</td>\n",
       "    </tr>\n",
       "    <tr>\n",
       "      <th>...</th>\n",
       "      <td>...</td>\n",
       "      <td>...</td>\n",
       "    </tr>\n",
       "    <tr>\n",
       "      <th>6583</th>\n",
       "      <td>good_weld_995.png</td>\n",
       "      <td>good_weld</td>\n",
       "    </tr>\n",
       "    <tr>\n",
       "      <th>6584</th>\n",
       "      <td>good_weld_996.png</td>\n",
       "      <td>good_weld</td>\n",
       "    </tr>\n",
       "    <tr>\n",
       "      <th>6585</th>\n",
       "      <td>good_weld_997.png</td>\n",
       "      <td>good_weld</td>\n",
       "    </tr>\n",
       "    <tr>\n",
       "      <th>6586</th>\n",
       "      <td>good_weld_998.png</td>\n",
       "      <td>good_weld</td>\n",
       "    </tr>\n",
       "    <tr>\n",
       "      <th>6587</th>\n",
       "      <td>good_weld_999.png</td>\n",
       "      <td>good_weld</td>\n",
       "    </tr>\n",
       "  </tbody>\n",
       "</table>\n",
       "<p>6588 rows × 2 columns</p>\n",
       "</div>"
      ],
      "text/plain": [
       "                   path test_class\n",
       "0        bad_weld_0.png   bad_weld\n",
       "1        bad_weld_1.png   bad_weld\n",
       "2       bad_weld_10.png   bad_weld\n",
       "3      bad_weld_100.png   bad_weld\n",
       "4     bad_weld_1000.png   bad_weld\n",
       "...                 ...        ...\n",
       "6583  good_weld_995.png  good_weld\n",
       "6584  good_weld_996.png  good_weld\n",
       "6585  good_weld_997.png  good_weld\n",
       "6586  good_weld_998.png  good_weld\n",
       "6587  good_weld_999.png  good_weld\n",
       "\n",
       "[6588 rows x 2 columns]"
      ]
     },
     "execution_count": 13,
     "metadata": {},
     "output_type": "execute_result"
    }
   ],
   "source": [
    "data = []\n",
    "for root, dirs, files in os.walk(test_dir):\n",
    "    for file in files:\n",
    "        file_path = os.path.join(root, file)\n",
    "        file_name = os.path.basename(file_path)\n",
    "        dir_name = os.path.basename(root)\n",
    "        data.append((file_name, dir_name))\n",
    "\n",
    "dfw = pd.DataFrame(data, columns=['path', 'test_class'])\n",
    "dfw"
   ]
  },
  {
   "cell_type": "markdown",
   "id": "e2b093b3",
   "metadata": {},
   "source": [
    "## STEP 4. Transform"
   ]
  },
  {
   "cell_type": "markdown",
   "id": "84ba7c22",
   "metadata": {},
   "source": [
    "I apply the same transformations for testing as I did for training."
   ]
  },
  {
   "cell_type": "code",
   "execution_count": 9,
   "id": "3ee021dc",
   "metadata": {},
   "outputs": [],
   "source": [
    "test_transforms = transforms.Compose([ \n",
    "    transforms.Resize((224, 224)), \n",
    "    transforms.ToTensor(), \n",
    "    transforms.Normalize([0.485, 0.456, 0.406], [0.229, 0.224, 0.225])])\n",
    "test_dataset = torchvision.datasets.ImageFolder(test_dir, test_transforms)"
   ]
  },
  {
   "cell_type": "code",
   "execution_count": 10,
   "id": "0d9998ac",
   "metadata": {},
   "outputs": [],
   "source": [
    "batch_size = 8"
   ]
  },
  {
   "cell_type": "code",
   "execution_count": 11,
   "id": "4dc73a11",
   "metadata": {},
   "outputs": [],
   "source": [
    "test_dataloader = torch.utils.data.DataLoader(\n",
    "        test_dataset, batch_size=batch_size, shuffle=False, num_workers=0) #Новый даталоадер с путями до изображени"
   ]
  },
  {
   "cell_type": "code",
   "execution_count": 12,
   "id": "1133c94b",
   "metadata": {},
   "outputs": [
    {
     "data": {
      "text/plain": [
       "6588"
      ]
     },
     "execution_count": 12,
     "metadata": {},
     "output_type": "execute_result"
    }
   ],
   "source": [
    "len(test_dataset)"
   ]
  },
  {
   "cell_type": "markdown",
   "id": "11ad92cb",
   "metadata": {},
   "source": [
    "## STEP 5. Load the model"
   ]
  },
  {
   "cell_type": "code",
   "execution_count": 22,
   "id": "7abc6cdc",
   "metadata": {},
   "outputs": [],
   "source": [
    "model = torch.load(r\"vgg13_adagrad_binary.pth\",map_location=torch.device('cuda:0'))"
   ]
  },
  {
   "cell_type": "code",
   "execution_count": 23,
   "id": "57e96fae",
   "metadata": {},
   "outputs": [
    {
     "data": {
      "text/plain": [
       "VGG(\n",
       "  (features): Sequential(\n",
       "    (0): Conv2d(3, 64, kernel_size=(3, 3), stride=(1, 1), padding=(1, 1))\n",
       "    (1): ReLU(inplace=True)\n",
       "    (2): Conv2d(64, 64, kernel_size=(3, 3), stride=(1, 1), padding=(1, 1))\n",
       "    (3): ReLU(inplace=True)\n",
       "    (4): MaxPool2d(kernel_size=2, stride=2, padding=0, dilation=1, ceil_mode=False)\n",
       "    (5): Conv2d(64, 128, kernel_size=(3, 3), stride=(1, 1), padding=(1, 1))\n",
       "    (6): ReLU(inplace=True)\n",
       "    (7): Conv2d(128, 128, kernel_size=(3, 3), stride=(1, 1), padding=(1, 1))\n",
       "    (8): ReLU(inplace=True)\n",
       "    (9): MaxPool2d(kernel_size=2, stride=2, padding=0, dilation=1, ceil_mode=False)\n",
       "    (10): Conv2d(128, 256, kernel_size=(3, 3), stride=(1, 1), padding=(1, 1))\n",
       "    (11): ReLU(inplace=True)\n",
       "    (12): Conv2d(256, 256, kernel_size=(3, 3), stride=(1, 1), padding=(1, 1))\n",
       "    (13): ReLU(inplace=True)\n",
       "    (14): MaxPool2d(kernel_size=2, stride=2, padding=0, dilation=1, ceil_mode=False)\n",
       "    (15): Conv2d(256, 512, kernel_size=(3, 3), stride=(1, 1), padding=(1, 1))\n",
       "    (16): ReLU(inplace=True)\n",
       "    (17): Conv2d(512, 512, kernel_size=(3, 3), stride=(1, 1), padding=(1, 1))\n",
       "    (18): ReLU(inplace=True)\n",
       "    (19): MaxPool2d(kernel_size=2, stride=2, padding=0, dilation=1, ceil_mode=False)\n",
       "    (20): Conv2d(512, 512, kernel_size=(3, 3), stride=(1, 1), padding=(1, 1))\n",
       "    (21): ReLU(inplace=True)\n",
       "    (22): Conv2d(512, 512, kernel_size=(3, 3), stride=(1, 1), padding=(1, 1))\n",
       "    (23): ReLU(inplace=True)\n",
       "    (24): MaxPool2d(kernel_size=2, stride=2, padding=0, dilation=1, ceil_mode=False)\n",
       "  )\n",
       "  (avgpool): AdaptiveAvgPool2d(output_size=(7, 7))\n",
       "  (classifier): Sequential(\n",
       "    (0): Linear(in_features=25088, out_features=4096, bias=True)\n",
       "    (1): ReLU(inplace=True)\n",
       "    (2): Dropout(p=0.5, inplace=False)\n",
       "    (3): Linear(in_features=4096, out_features=4096, bias=True)\n",
       "    (4): ReLU(inplace=True)\n",
       "    (5): Dropout(p=0.5, inplace=False)\n",
       "    (6): Linear(in_features=4096, out_features=1, bias=True)\n",
       "    (sigmoid): Sigmoid()\n",
       "  )\n",
       ")"
      ]
     },
     "execution_count": 23,
     "metadata": {},
     "output_type": "execute_result"
    }
   ],
   "source": [
    "device = torch.device(\"cuda:0\")\n",
    "model = model.to(device)\n",
    "model.eval()"
   ]
  },
  {
   "cell_type": "markdown",
   "id": "c224ab5d",
   "metadata": {},
   "source": [
    "## STEP 6. TESTING"
   ]
  },
  {
   "cell_type": "code",
   "execution_count": 30,
   "id": "862ee2cd",
   "metadata": {},
   "outputs": [
    {
     "name": "stderr",
     "output_type": "stream",
     "text": [
      "100%|██████████| 1098/1098 [09:09<00:00,  2.00it/s]"
     ]
    },
    {
     "name": "stdout",
     "output_type": "stream",
     "text": [
      "Тестирование данных закончено\n"
     ]
    },
    {
     "name": "stderr",
     "output_type": "stream",
     "text": [
      "\n"
     ]
    }
   ],
   "source": [
    "device = torch.device(\"cuda\" if torch.cuda.is_available() else \"cpu\")\n",
    "model.to(device)\n",
    "start = datetime.now()\n",
    "predictions = []\n",
    "model.eval()\n",
    "with torch.no_grad():\n",
    "    for images, _ in tqdm(test_dataloader):\n",
    "        images = images.to(device)\n",
    "        outputs = model(images)\n",
    "        predicted = (outputs >= 0.001).int()\n",
    "        predictions.extend(predicted.cpu().numpy())\n",
    "finish = datetime.now() - start\n",
    "print('Success!')"
   ]
  },
  {
   "cell_type": "markdown",
   "id": "e8359673",
   "metadata": {},
   "source": [
    "## STEP 7. METRICS"
   ]
  },
  {
   "cell_type": "code",
   "execution_count": 32,
   "id": "007383e5",
   "metadata": {},
   "outputs": [
    {
     "data": {
      "text/html": [
       "<div>\n",
       "<style scoped>\n",
       "    .dataframe tbody tr th:only-of-type {\n",
       "        vertical-align: middle;\n",
       "    }\n",
       "\n",
       "    .dataframe tbody tr th {\n",
       "        vertical-align: top;\n",
       "    }\n",
       "\n",
       "    .dataframe thead th {\n",
       "        text-align: right;\n",
       "    }\n",
       "</style>\n",
       "<table border=\"1\" class=\"dataframe\">\n",
       "  <thead>\n",
       "    <tr style=\"text-align: right;\">\n",
       "      <th></th>\n",
       "      <th>Count</th>\n",
       "    </tr>\n",
       "    <tr>\n",
       "      <th>answer</th>\n",
       "      <th></th>\n",
       "    </tr>\n",
       "  </thead>\n",
       "  <tbody>\n",
       "    <tr>\n",
       "      <th>FN</th>\n",
       "      <td>62</td>\n",
       "    </tr>\n",
       "    <tr>\n",
       "      <th>FP</th>\n",
       "      <td>984</td>\n",
       "    </tr>\n",
       "    <tr>\n",
       "      <th>TN</th>\n",
       "      <td>4316</td>\n",
       "    </tr>\n",
       "    <tr>\n",
       "      <th>TP</th>\n",
       "      <td>3415</td>\n",
       "    </tr>\n",
       "  </tbody>\n",
       "</table>\n",
       "</div>"
      ],
      "text/plain": [
       "        Count\n",
       "answer       \n",
       "FN         62\n",
       "FP        984\n",
       "TN       4316\n",
       "TP       3415"
      ]
     },
     "execution_count": 32,
     "metadata": {},
     "output_type": "execute_result"
    }
   ],
   "source": [
    "df = dfw\n",
    "for i in range(0, 1):\n",
    "    df[f'prob_{i+1}'] = [probs[i] for probs in predictions] \n",
    "df['prob_1'] = df['prob_1'].replace({0:'bad_weld', 1:'good_weld'})\n",
    "\n",
    "df['right_name'] = dfw['path']\n",
    "df = df.drop('path',axis=1)\n",
    "df = df.rename(columns={'prob_1':'predicted_classes'})\n",
    "df['true_class'] = df['right_name'].apply(lambda x: x.split('_')[0])\n",
    "df['true_class'] = df['true_class'] + '_weld'\n",
    "df['true_class'] = df['true_class'].replace('flipped_weld','good_weld')\n",
    "# df = df.drop('right_name',axis=1)\n",
    "def apply_conditions(df):\n",
    "    if df.true_class == 'good_weld':\n",
    "        if df.predicted_classes == 'good_weld':\n",
    "            return 'TN'\n",
    "        elif df.predicted_classes == 'bad_weld':\n",
    "            return 'FN'\n",
    "    else:\n",
    "        if df.predicted_classes == 'bad_weld':\n",
    "            return 'TP'\n",
    "        elif df.predicted_classes == 'good_weld':\n",
    "            return 'FP'\n",
    "df['answer'] = df.apply(apply_conditions, axis=1)\n",
    "answer_group = df.groupby(df.answer).agg({'answer':'count'})\n",
    "answer_group = answer_group.rename(columns={'answer':'Count'})\n",
    "answer_group"
   ]
  },
  {
   "cell_type": "markdown",
   "id": "e87ea3a6",
   "metadata": {},
   "source": [
    "TP - Correctly guessed that the seam is good\n",
    "                                                                                                                            \n",
    "TN - He guessed correctly that the seam is bad.\n",
    "                                                                                                                            \n",
    "FP - He decided that the correct seam has a defect. This is not a big deal, it will increase the work of building control.\n",
    "                                                                                                                            \n",
    "FN - He thinks the bad seam is not so bad and that it is OK. That's the BIGGEST FAULT"
   ]
  },
  {
   "cell_type": "code",
   "execution_count": 34,
   "id": "7807c6ae",
   "metadata": {},
   "outputs": [
    {
     "name": "stdout",
     "output_type": "stream",
     "text": [
      "Для архитектуры AlexNet:\n",
      "Accuracy:  0.8808248832175003\n",
      "Recall:  0.9821685360943342\n",
      "Precision:  0.7763127983632644\n",
      "F1-score:  0.867191467750127\n",
      "Время тестирования картинок:  0:09:09.027533\n"
     ]
    }
   ],
   "source": [
    "print('FOR MODEL:)\n",
    "TP = int(answer_group.loc[answer_group.index == 'TP']['Count'])\n",
    "TN = int(answer_group.loc[answer_group.index == 'TN']['Count'])\n",
    "FP = int(answer_group.loc[answer_group.index == 'FP']['Count'])\n",
    "FN = int(answer_group.loc[answer_group.index == 'FN']['Count'])\n",
    "accuracy = (TP + TN) / (TP+TN+FP+FN)\n",
    "print('Accuracy: ', accuracy)\n",
    "recall = (TP) / (TP + FN)\n",
    "print('Recall: ', recall)\n",
    "precision = (TP) / (TP + FP)\n",
    "print('Precision: ', precision)\n",
    "f1_score = (2 * recall * precision) / (recall + precision)\n",
    "print('F1-score: ', f1_score)\n",
    "print('Время тестирования картинок: ', finish)"
   ]
  }
 ],
 "metadata": {
  "kernelspec": {
   "display_name": "GPU",
   "language": "python",
   "name": "gpu_env"
  },
  "language_info": {
   "codemirror_mode": {
    "name": "ipython",
    "version": 3
   },
   "file_extension": ".py",
   "mimetype": "text/x-python",
   "name": "python",
   "nbconvert_exporter": "python",
   "pygments_lexer": "ipython3",
   "version": "3.10.11"
  }
 },
 "nbformat": 4,
 "nbformat_minor": 5
}
